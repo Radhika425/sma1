import networkx as nx
import matplotlib.pyplot as plt

# Step 1: Load the Zachary Karate Club dataset
G = nx.karate_club_graph()

# Step 2: Visualize the graph with node labels
plt.figure(figsize=(8, 8))
pos = nx.spring_layout(G, seed=42)  # Spring layout for better visualization
nx.draw(G, pos, with_labels=True, node_size=700, node_color='skyblue', font_size=10, font_weight='bold')
plt.title("Zachary's Karate Club Network")
plt.show()

# Step 3: Calculate centralities
# Degree Centrality
deg_cent = nx.degree_centrality(G)

# Closeness Centrality
clo_cent = nx.closeness_centrality(G)

# Betweenness Centrality
betw_cent = nx.betweenness_centrality(G)

# Eigenvector Centrality
eig_cent = nx.eigenvector_centrality(G, max_iter=1000)

# Step 4: Report top 5 nodes based on centrality measures
top_5_deg = sorted(deg_cent.items(), key=lambda x: x[1], reverse=True)[:5]
top_5_clo = sorted(clo_cent.items(), key=lambda x: x[1], reverse=True)[:5]
top_5_betw = sorted(betw_cent.items(), key=lambda x: x[1], reverse=True)[:5]
top_5_eig = sorted(eig_cent.items(), key=lambda x: x[1], reverse=True)[:5]

# Display top 5 nodes for each centrality
print("\nTop 5 Nodes based on Degree Centrality:")
for node, val in top_5_deg:
    print(f"Node {node}: {val:.3f}")

print("\nTop 5 Nodes based on Closeness Centrality:")
for node, val in top_5_clo:
    print(f"Node {node}: {val:.3f}")

print("\nTop 5 Nodes based on Betweenness Centrality:")
for node, val in top_5_betw:
    print(f"Node {node}: {val:.3f}")

print("\nTop 5 Nodes based on Eigenvector Centrality:")
for node, val in top_5_eig:
    print(f"Node {node}: {val:.3f}")

###out datafile

import networkx as nx
import matplotlib.pyplot as plt

# Step 1: Load the graph from the uploaded file
edge_list_file = "out.ucidata-zachary"  # Ensure this file is already uploaded
G = nx.read_edgelist(edge_list_file, nodetype=int, comments='%')

# Step 2: Visualize the graph with node labels
plt.figure(figsize=(10, 8))
pos = nx.spring_layout(G, seed=42)
nx.draw(G, pos, with_labels=True, node_size=700, node_color='skyblue',
        font_size=10, font_weight='bold', edge_color='gray')
plt.title("Zachary's Karate Club Network")
plt.show()

# Step 3: Centrality Measures

# Degree Centrality
deg_cent = nx.degree_centrality(G)

# Closeness Centrality
clo_cent = nx.closeness_centrality(G)

# Betweenness Centrality
betw_cent = nx.betweenness_centrality(G)

# Eigenvector Centrality
eig_cent = nx.eigenvector_centrality(G, max_iter=1000)

# Step 4: Top 5 nodes for each centrality measure
def top_5(metric_dict):
    return sorted(metric_dict.items(), key=lambda x: x[1], reverse=True)[:5]

top_5_deg = top_5(deg_cent)
top_5_clo = top_5(clo_cent)
top_5_betw = top_5(betw_cent)
top_5_eig = top_5(eig_cent)

# Step 5: Display the results
print("\nTop 5 Nodes based on Degree Centrality:")
for node, val in top_5_deg:
    print(f"Node {node}: {val:.3f}")
print("\nTop 5 Nodes based on Closeness Centrality:")
for node, val in top_5_clo:
    print(f"Node {node}: {val:.3f}")
print("\nTop 5 Nodes based on Betweenness Centrality:")
for node, val in top_5_betw:
    print(f"Node {node}: {val:.3f}")
print("\nTop 5 Nodes based on Eigenvector Centrality:")
for node, val in top_5_eig:
    print(f"Node {node}: {val:.3f}")
