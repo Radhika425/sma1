import networkx as nx
import matplotlib.pyplot as plt
from networkx.algorithms.community import girvan_newman

# Step 1: Load the graph
G = nx.karate_club_graph()

# Step 2: Apply Girvan–Newman algorithm
communities_generator = girvan_newman(G)

# Get the first split (2 communities)
first_level_communities = next(communities_generator)
community_1 = list(first_level_communities[0])
community_2 = list(first_level_communities[1])

print("\nCommunity 1 Nodes:", community_1)
print("Community 2 Nodes:", community_2)

# Step 3: Visualization of the split
# Assign colors based on community
node_colors = []
for node in G.nodes():
    if node in community_1:
        node_colors.append('orange')
    else:
        node_colors.append('lightblue')

plt.figure(figsize=(8, 8))
pos = nx.spring_layout(G, seed=42)
nx.draw(G, pos, node_color=node_colors, with_labels=True, node_size=700, font_weight='bold')
plt.title("Zachary's Karate Club - Girvan–Newman Community Split")
plt.show()

###############OUT
import networkx as nx
import matplotlib.pyplot as plt
from networkx.algorithms.community import girvan_newman
import itertools

# Load the graph
edge_list_file = "out.ucidata-zachary"  # File already uploaded
G = nx.read_edgelist(edge_list_file, nodetype=int, comments='%')

# Visualize original network
plt.figure(figsize=(10, 8))
pos = nx.spring_layout(G, seed=42)
nx.draw(G, pos, with_labels=True, node_size=700, node_color='lightgreen', edge_color='gray')
plt.title("Original Zachary's Karate Club Network")
plt.show()

# Apply Girvan–Newman algorithm
communities_generator = girvan_newman(G)

# Get first 3 levels of community splits
top_levels = list(itertools.islice(communities_generator, 3))

# Display results
for i, comm in enumerate(top_levels):
    print(f"\nLevel {i+1} Community Split:")
    for j, group in enumerate(comm):
        print(f"  Community {j+1}: {sorted(group)}")

    # Optional: Visualize each level
    colors = []
    node_color_map = {}
    for idx, c in enumerate(comm):
        for node in c:
            node_color_map[node] = idx
    colors = [node_color_map[node] for node in G.nodes()]

    plt.figure(figsize=(10, 8))
    nx.draw(G, pos, with_labels=True, node_size=700, node_color=colors, cmap=plt.cm.Set3, edge_color='gray')
    plt.title(f"Girvan–Newman Community Split - Level {i+1}")
    plt.show()
