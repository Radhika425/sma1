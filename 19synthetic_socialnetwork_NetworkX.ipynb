import networkx as nx
import matplotlib.pyplot as plt
import numpy as np
import random

# Step 1: Create a synthetic social network
G = nx.erdos_renyi_graph(n=30, p=0.1, seed=42)  # 30 nodes, 10% connection probability

# Add names to nodes (optional)
for i in G.nodes():
    G.nodes[i]['name'] = f"User_{i}"

# Step 2: Plot basic network
plt.figure(figsize=(8, 6))
nx.draw(G, with_labels=True, node_color='skyblue', edge_color='gray', node_size=500, font_size=10)
plt.title("Basic Social Network Graph")
plt.show()

# Step 3: Degree-based node size
plt.figure(figsize=(8, 6))
node_sizes = [100 + 300 * G.degree(n) for n in G.nodes()]
nx.draw(G, with_labels=True, node_color='lightgreen', node_size=node_sizes, edge_color='black')
plt.title("Degree-based Node Sizes")
plt.show()

# Step 4: Community detection using greedy modularity
from networkx.algorithms.community import greedy_modularity_communities
communities = greedy_modularity_communities(G)

# Assign colors to communities
color_map = {}
colors = plt.cm.rainbow(np.linspace(0, 1, len(communities)))
for c_idx, c_nodes in enumerate(communities):
    for node in c_nodes:
        color_map[node] = colors[c_idx]

plt.figure(figsize=(8, 6))
nx.draw(G, with_labels=True,
        node_color=[color_map[n] for n in G.nodes()],
        edge_color='gray', node_size=500)
plt.title("Community Detection Visualization")
plt.show()

# Step 5: Different layout (circular layout)
plt.figure(figsize=(8, 6))
nx.draw_circular(G, with_labels=True, node_color='orange', node_size=500)
plt.title("Circular Layout Visualization")
plt.show()
