#https://www.kaggle.com/datasets/radb54/21keywordsentiment-patanjali-lexalytics-ipynb

import pandas as pd
import nltk
from nltk.sentiment import SentimentIntensityAnalyzer
from sklearn.feature_extraction.text import CountVectorizer
import matplotlib.pyplot as plt

# Step 1: Setup
nltk.download('vader_lexicon')
sia = SentimentIntensityAnalyzer()

# Step 2: Load Data
df = pd.read_csv("patanjali_100_sample.csv")  # Replace with your CSV path
df['Tweet'] = df['Tweet'].astype(str)

# Step 3: Perform Sentiment Analysis
def get_sentiment_score(text):
    return sia.polarity_scores(text)['compound']

df['compound_score'] = df['Tweet'].apply(get_sentiment_score)

# Classify Sentiment
df['sentiment'] = df['compound_score'].apply(lambda x: 'positive' if x >= 0.05 else 'negative' if x <= -0.05 else 'neutral')

# Step 4: Extract Top Positive and Negative Phrases
# Filter only positive and negative tweets
pos_tweets = df[df['sentiment'] == 'positive']['Tweet']
neg_tweets = df[df['sentiment'] == 'negative']['Tweet']

# Use CountVectorizer to extract top phrases (uni/bi-grams)
vectorizer = CountVectorizer(ngram_range=(1,2), stop_words='english')

# Fit and transform positive tweets
X_pos = vectorizer.fit_transform(pos_tweets)
pos_counts = pd.DataFrame(X_pos.toarray(), columns=vectorizer.get_feature_names_out()).sum().sort_values(ascending=False)

# Fit and transform negative tweets
X_neg = vectorizer.fit_transform(neg_tweets)
neg_counts = pd.DataFrame(X_neg.toarray(), columns=vectorizer.get_feature_names_out()).sum().sort_values(ascending=False)

# Step 5: Display Top Phrases
print("\n🔼 Top 10 Positive Phrases:")
print(pos_counts.head(10))

print("\n🔽 Top 10 Negative Phrases:")
print(neg_counts.head(10))

# Optional: Bar Plot
plt.figure(figsize=(12, 5))
pos_counts.head(10).plot(kind='bar', color='green', title='Top Positive Phrases')
plt.xticks(rotation=45)
plt.tight_layout()
plt.show()

plt.figure(figsize=(12, 5))
neg_counts.head(10).plot(kind='bar', color='red', title='Top Negative Phrases')
plt.xticks(rotation=45)
plt.tight_layout()
plt.show()
