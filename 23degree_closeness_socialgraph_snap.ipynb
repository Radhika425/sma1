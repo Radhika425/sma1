import networkx as nx
import matplotlib.pyplot as plt
from networkx.algorithms import community
import urllib.request
import gzip
import shutil

# Step 1: Download and load the graph
url = "https://snap.stanford.edu/data/facebook_combined.txt.gz"
filename = "facebook_combined.txt.gz"

# Download the file from the given URL
urllib.request.urlretrieve(url, filename)

# Unzip the downloaded file
with gzip.open(filename, 'rb') as f_in:
    with open("facebook_combined.txt", 'wb') as f_out:
        shutil.copyfileobj(f_in, f_out)

# Load the graph from the unzipped file (edge list format)
G = nx.read_edgelist("facebook_combined.txt")

# Step 2: Display basic graph information
print(f"Nodes: {len(G.nodes)}")
print(f"Edges: {len(G.edges)}")
print(f"Graph Density: {nx.density(G)}")

# Step 3: Calculate Degree Centrality, Closeness Centrality, and Eigenvector Centrality
# 1. Degree Centrality
deg_cent = nx.degree_centrality(G)

# 2. Closeness Centrality
clo_cent = nx.closeness_centrality(G)

# 3. Eigenvector Centrality
eig_cent = nx.eigenvector_centrality(G, max_iter=1000)

# Display the centrality values for each node
print("\nDegree Centrality:")
for node, val in deg_cent.items():
    print(f"Node {node}: {val:.3f}")

print("\nCloseness Centrality:")
for node, val in clo_cent.items():
    print(f"Node {node}: {val:.3f}")

print("\nEigenvector Centrality:")
for node, val in eig_cent.items():
    print(f"Node {node}: {val:.3f}")

# Step 4: Identify nodes with highest centralities
max_deg_node = max(deg_cent, key=deg_cent.get)
max_deg_val = deg_cent[max_deg_node]

max_clo_node = max(clo_cent, key=clo_cent.get)
max_clo_val = clo_cent[max_clo_node]

max_eig_node = max(eig_cent, key=eig_cent.get)
max_eig_val = eig_cent[max_eig_node]

# Print the nodes with the highest centralities
print("\nNode with Highest Degree Centrality:")
print(f"Node {max_deg_node} with Degree Centrality {max_deg_val:.3f}")

print("\nNode with Highest Closeness Centrality:")
print(f"Node {max_clo_node} with Closeness Centrality {max_clo_val:.3f}")

print("\nNode with Highest Eigenvector Centrality:")
print(f"Node {max_eig_node} with Eigenvector Centrality {max_eig_val:.3f}")

# Step 5: Visualize the graph with node color based on degree centrality
# Create a visualization where node size and color are based on degree centrality
node_sizes = [deg_cent[node] * 1000 for node in G.nodes]  # Scale the size for better visibility
node_colors = [deg_cent[node] for node in G.nodes]  # Color based on degree centrality

plt.figure(figsize=(10, 10))
pos = nx.spring_layout(G)  # Position nodes using spring layout

# Draw the network with customized node sizes and colors
nx.draw(G, pos, with_labels=False, node_size=node_sizes, node_color=node_colors, cmap=plt.cm.Blues, alpha=0.7)

plt.title("Social Network Visualization Based on Degree Centrality")
plt.show()
