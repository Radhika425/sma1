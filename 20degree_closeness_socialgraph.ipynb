import networkx as nx
import matplotlib.pyplot as plt

# Create a sample synthetic social network
G = nx.erdos_renyi_graph(n=10, p=0.3, seed=42)

# 1. Degree Centrality
deg_cent = nx.degree_centrality(G)

# 2. Closeness Centrality
clo_cent = nx.closeness_centrality(G)

# 3. Eigenvector Centrality
eig_cent = nx.eigenvector_centrality(G, max_iter=1000)

# Display the centrality values
print("Degree Centrality:")
for node, val in deg_cent.items():
    print(f"Node {node}: {val:.3f}")

print("\nCloseness Centrality:")
for node, val in clo_cent.items():
    print(f"Node {node}: {val:.3f}")

print("\nEigenvector Centrality:")
for node, val in eig_cent.items():
    print(f"Node {node}: {val:.3f}")
